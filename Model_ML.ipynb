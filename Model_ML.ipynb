{
 "cells": [
  {
   "cell_type": "code",
   "execution_count": 109,
   "metadata": {
    "id": "rqNYkOG6xzYD"
   },
   "outputs": [],
   "source": [
    "import pandas as pd\n",
    "import numpy as np\n",
    "import seaborn as sns\n",
    "import matplotlib.pyplot as plt\n",
    "from sklearn.preprocessing import StandardScaler\n",
    "import sklearn.metrics as metrics\n",
    "from sklearn.preprocessing import LabelEncoder"
   ]
  },
  {
   "cell_type": "code",
   "execution_count": 110,
   "metadata": {
    "id": "N6SsUZ05xzYH"
   },
   "outputs": [],
   "source": [
    "data=pd.read_excel('UsedMotorbikes.xlsx')"
   ]
  },
  {
   "cell_type": "code",
   "execution_count": 111,
   "metadata": {
    "id": "-XF1kXxLxzYI",
    "outputId": "b2bec9d1-cdb1-453b-faac-c65c9781409c"
   },
   "outputs": [
    {
     "data": {
      "text/html": [
       "<div>\n",
       "<style scoped>\n",
       "    .dataframe tbody tr th:only-of-type {\n",
       "        vertical-align: middle;\n",
       "    }\n",
       "\n",
       "    .dataframe tbody tr th {\n",
       "        vertical-align: top;\n",
       "    }\n",
       "\n",
       "    .dataframe thead th {\n",
       "        text-align: right;\n",
       "    }\n",
       "</style>\n",
       "<table border=\"1\" class=\"dataframe\">\n",
       "  <thead>\n",
       "    <tr style=\"text-align: right;\">\n",
       "      <th></th>\n",
       "      <th>Price</th>\n",
       "      <th>Brand</th>\n",
       "      <th>Model</th>\n",
       "      <th>Reg_Date</th>\n",
       "      <th>Km</th>\n",
       "      <th>Condition</th>\n",
       "      <th>Capacity</th>\n",
       "      <th>Type</th>\n",
       "      <th>Location</th>\n",
       "    </tr>\n",
       "  </thead>\n",
       "  <tbody>\n",
       "    <tr>\n",
       "      <th>0</th>\n",
       "      <td>45800000.0</td>\n",
       "      <td>Honda</td>\n",
       "      <td>SH</td>\n",
       "      <td>2022</td>\n",
       "      <td>10000</td>\n",
       "      <td>Đã sử dụng</td>\n",
       "      <td>100 - 175</td>\n",
       "      <td>Tay ga</td>\n",
       "      <td>Đà Nẵng</td>\n",
       "    </tr>\n",
       "    <tr>\n",
       "      <th>1</th>\n",
       "      <td>48000000.0</td>\n",
       "      <td>Piaggio</td>\n",
       "      <td>Vespa</td>\n",
       "      <td>1998</td>\n",
       "      <td>336688</td>\n",
       "      <td>Đã sử dụng</td>\n",
       "      <td>100 - 175</td>\n",
       "      <td>Xe số</td>\n",
       "      <td>Đà Nẵng</td>\n",
       "    </tr>\n",
       "    <tr>\n",
       "      <th>2</th>\n",
       "      <td>82800000.0</td>\n",
       "      <td>Honda</td>\n",
       "      <td>SH</td>\n",
       "      <td>2019</td>\n",
       "      <td>2</td>\n",
       "      <td>Đã sử dụng</td>\n",
       "      <td>100 - 175</td>\n",
       "      <td>Tay ga</td>\n",
       "      <td>Đà Nẵng</td>\n",
       "    </tr>\n",
       "    <tr>\n",
       "      <th>3</th>\n",
       "      <td>58000000.0</td>\n",
       "      <td>Honda</td>\n",
       "      <td>Cub</td>\n",
       "      <td>1998</td>\n",
       "      <td>33123</td>\n",
       "      <td>Đã sử dụng</td>\n",
       "      <td>100 - 175</td>\n",
       "      <td>Xe số</td>\n",
       "      <td>Đà Nẵng</td>\n",
       "    </tr>\n",
       "    <tr>\n",
       "      <th>4</th>\n",
       "      <td>13500000.0</td>\n",
       "      <td>Honda</td>\n",
       "      <td>Air Blade</td>\n",
       "      <td>2012</td>\n",
       "      <td>9000</td>\n",
       "      <td>Đã sử dụng</td>\n",
       "      <td>100 - 175</td>\n",
       "      <td>Tay ga</td>\n",
       "      <td>Đà Nẵng</td>\n",
       "    </tr>\n",
       "    <tr>\n",
       "      <th>...</th>\n",
       "      <td>...</td>\n",
       "      <td>...</td>\n",
       "      <td>...</td>\n",
       "      <td>...</td>\n",
       "      <td>...</td>\n",
       "      <td>...</td>\n",
       "      <td>...</td>\n",
       "      <td>...</td>\n",
       "      <td>...</td>\n",
       "    </tr>\n",
       "    <tr>\n",
       "      <th>18824</th>\n",
       "      <td>22000000.0</td>\n",
       "      <td>Yamaha</td>\n",
       "      <td>Exciter</td>\n",
       "      <td>2016</td>\n",
       "      <td>70000</td>\n",
       "      <td>Đã sử dụng</td>\n",
       "      <td>100 - 175</td>\n",
       "      <td>Tay côn/Moto</td>\n",
       "      <td>Long An</td>\n",
       "    </tr>\n",
       "    <tr>\n",
       "      <th>18825</th>\n",
       "      <td>16000000.0</td>\n",
       "      <td>Honda</td>\n",
       "      <td>Winner</td>\n",
       "      <td>2018</td>\n",
       "      <td>20000</td>\n",
       "      <td>Đã sử dụng</td>\n",
       "      <td>100 - 175</td>\n",
       "      <td>Tay côn/Moto</td>\n",
       "      <td>Tp Hồ Chí Minh</td>\n",
       "    </tr>\n",
       "    <tr>\n",
       "      <th>18826</th>\n",
       "      <td>336000000.0</td>\n",
       "      <td>Honda</td>\n",
       "      <td>SH</td>\n",
       "      <td>2018</td>\n",
       "      <td>10000</td>\n",
       "      <td>Đã sử dụng</td>\n",
       "      <td>100 - 175</td>\n",
       "      <td>Tay ga</td>\n",
       "      <td>Tp Hồ Chí Minh</td>\n",
       "    </tr>\n",
       "    <tr>\n",
       "      <th>18827</th>\n",
       "      <td>11500000.0</td>\n",
       "      <td>Piaggio</td>\n",
       "      <td>Vespa</td>\n",
       "      <td>2011</td>\n",
       "      <td>19000</td>\n",
       "      <td>Đã sử dụng</td>\n",
       "      <td>100 - 175</td>\n",
       "      <td>Tay ga</td>\n",
       "      <td>Đà Nẵng</td>\n",
       "    </tr>\n",
       "    <tr>\n",
       "      <th>18828</th>\n",
       "      <td>42700000.0</td>\n",
       "      <td>Honda</td>\n",
       "      <td>Vario</td>\n",
       "      <td>2019</td>\n",
       "      <td>12647</td>\n",
       "      <td>Đã sử dụng</td>\n",
       "      <td>100 - 175</td>\n",
       "      <td>Tay ga</td>\n",
       "      <td>Cần Thơ</td>\n",
       "    </tr>\n",
       "  </tbody>\n",
       "</table>\n",
       "<p>18829 rows × 9 columns</p>\n",
       "</div>"
      ],
      "text/plain": [
       "             Price    Brand      Model  Reg_Date      Km   Condition  \\\n",
       "0       45800000.0    Honda         SH      2022   10000  Đã sử dụng   \n",
       "1       48000000.0  Piaggio      Vespa      1998  336688  Đã sử dụng   \n",
       "2       82800000.0    Honda         SH      2019       2  Đã sử dụng   \n",
       "3       58000000.0    Honda        Cub      1998   33123  Đã sử dụng   \n",
       "4       13500000.0    Honda  Air Blade      2012    9000  Đã sử dụng   \n",
       "...            ...      ...        ...       ...     ...         ...   \n",
       "18824   22000000.0   Yamaha    Exciter      2016   70000  Đã sử dụng   \n",
       "18825   16000000.0    Honda     Winner      2018   20000  Đã sử dụng   \n",
       "18826  336000000.0    Honda         SH      2018   10000  Đã sử dụng   \n",
       "18827   11500000.0  Piaggio      Vespa      2011   19000  Đã sử dụng   \n",
       "18828   42700000.0    Honda      Vario      2019   12647  Đã sử dụng   \n",
       "\n",
       "        Capacity          Type        Location  \n",
       "0      100 - 175        Tay ga         Đà Nẵng  \n",
       "1      100 - 175         Xe số         Đà Nẵng  \n",
       "2      100 - 175        Tay ga         Đà Nẵng  \n",
       "3      100 - 175         Xe số         Đà Nẵng  \n",
       "4      100 - 175        Tay ga         Đà Nẵng  \n",
       "...          ...           ...             ...  \n",
       "18824  100 - 175  Tay côn/Moto         Long An  \n",
       "18825  100 - 175  Tay côn/Moto  Tp Hồ Chí Minh  \n",
       "18826  100 - 175        Tay ga  Tp Hồ Chí Minh  \n",
       "18827  100 - 175        Tay ga         Đà Nẵng  \n",
       "18828  100 - 175        Tay ga         Cần Thơ  \n",
       "\n",
       "[18829 rows x 9 columns]"
      ]
     },
     "execution_count": 111,
     "metadata": {},
     "output_type": "execute_result"
    }
   ],
   "source": [
    "data"
   ]
  },
  {
   "cell_type": "code",
   "execution_count": 112,
   "metadata": {
    "id": "N9Ke7gJLxzYI",
    "outputId": "4877d46b-5940-4309-96d4-9926ff394381"
   },
   "outputs": [
    {
     "data": {
      "text/plain": [
       "(18829, 9)"
      ]
     },
     "execution_count": 112,
     "metadata": {},
     "output_type": "execute_result"
    }
   ],
   "source": [
    "data.shape"
   ]
  },
  {
   "cell_type": "code",
   "execution_count": 113,
   "metadata": {
    "id": "_XAUQWdBxzYJ",
    "outputId": "853c3139-2772-4f50-d486-764ebf8bac60"
   },
   "outputs": [
    {
     "data": {
      "text/plain": [
       "Price        0\n",
       "Brand        0\n",
       "Model        0\n",
       "Reg_Date     0\n",
       "Km           0\n",
       "Condition    0\n",
       "Capacity     0\n",
       "Type         0\n",
       "Location     0\n",
       "dtype: int64"
      ]
     },
     "execution_count": 113,
     "metadata": {},
     "output_type": "execute_result"
    }
   ],
   "source": [
    "data.isnull().sum()"
   ]
  },
  {
   "cell_type": "code",
   "execution_count": 114,
   "metadata": {},
   "outputs": [
    {
     "data": {
      "text/plain": [
       "0"
      ]
     },
     "execution_count": 114,
     "metadata": {},
     "output_type": "execute_result"
    }
   ],
   "source": [
    "data.duplicated().sum()"
   ]
  },
  {
   "cell_type": "code",
   "execution_count": 115,
   "metadata": {},
   "outputs": [
    {
     "data": {
      "text/plain": [
       "Price        float64\n",
       "Brand         object\n",
       "Model         object\n",
       "Reg_Date       int64\n",
       "Km             int64\n",
       "Condition     object\n",
       "Capacity      object\n",
       "Type          object\n",
       "Location      object\n",
       "dtype: object"
      ]
     },
     "execution_count": 115,
     "metadata": {},
     "output_type": "execute_result"
    }
   ],
   "source": [
    "data.dtypes"
   ]
  },
  {
   "cell_type": "code",
   "execution_count": 116,
   "metadata": {},
   "outputs": [],
   "source": [
    "le = LabelEncoder()\n",
    "\n",
    "data[\"Brand\"] = le.fit_transform(data[\"Brand\"])\n",
    "\n",
    "data[\"Model\"] = le.fit_transform(data[\"Model\"])\n",
    "\n",
    "data[\"Type\"] = le.fit_transform(data[\"Type\"])\n",
    "\n",
    "data[\"Location\"] = le.fit_transform(data[\"Location\"])\n",
    "\n",
    "data[\"Condition\"] = le.fit_transform(data[\"Condition\"])\n",
    "\n",
    "data[\"Capacity\"] = le.fit_transform(data[\"Capacity\"])"
   ]
  },
  {
   "cell_type": "code",
   "execution_count": 117,
   "metadata": {},
   "outputs": [
    {
     "data": {
      "text/plain": [
       "Price        float64\n",
       "Brand          int32\n",
       "Model          int32\n",
       "Reg_Date       int64\n",
       "Km             int64\n",
       "Condition      int32\n",
       "Capacity       int32\n",
       "Type           int32\n",
       "Location       int32\n",
       "dtype: object"
      ]
     },
     "execution_count": 117,
     "metadata": {},
     "output_type": "execute_result"
    }
   ],
   "source": [
    "data.dtypes"
   ]
  },
  {
   "cell_type": "code",
   "execution_count": 118,
   "metadata": {},
   "outputs": [],
   "source": [
    "X = data[['Brand', 'Model', 'Reg_Date', 'Km', 'Condition', 'Capacity', 'Type', 'Location']]\n",
    "y = data['Price']"
   ]
  },
  {
   "cell_type": "code",
   "execution_count": 119,
   "metadata": {
    "id": "7o9F_TRnxzYL"
   },
   "outputs": [],
   "source": [
    "y=pd.DataFrame(y)"
   ]
  },
  {
   "cell_type": "code",
   "execution_count": 120,
   "metadata": {},
   "outputs": [],
   "source": [
    "scaler = StandardScaler()\n",
    "scaler.fit(y)\n",
    "y = pd.DataFrame(scaler.transform(y),columns= y.columns )"
   ]
  },
  {
   "cell_type": "code",
   "execution_count": 121,
   "metadata": {},
   "outputs": [],
   "source": [
    "from sklearn.model_selection import train_test_split\n",
    "\n",
    "X_train, X_test, y_train, y_test = train_test_split(X, y, test_size=0.035, random_state=42)"
   ]
  },
  {
   "cell_type": "code",
   "execution_count": 122,
   "metadata": {},
   "outputs": [],
   "source": [
    "X_test = X_test.reset_index(drop=True)\n",
    "y_test = y_test.reset_index(drop=True)"
   ]
  },
  {
   "cell_type": "code",
   "execution_count": 123,
   "metadata": {
    "id": "YBesEinzxzYM",
    "outputId": "8bd49160-9255-48de-95ba-42eee1315a17"
   },
   "outputs": [
    {
     "data": {
      "image/png": "[encoded data removed]",
      "text/plain": [
       "<Figure size 1440x576 with 2 Axes>"
      ]
     },
     "metadata": {
      "needs_background": "light"
     },
     "output_type": "display_data"
    }
   ],
   "source": [
    "import matplotlib.pyplot as plt\n",
    "import seaborn as sns\n",
    "fig, ax= plt.subplots(1,1,figsize = (20,8))\n",
    "\n",
    "_ = ax.set_title(\"Correlation Matrix\")\n",
    "_ = sns.heatmap(data.corr(),annot=True,fmt=\"g\",cmap=\"Greens\")"
   ]
  },
  {
   "cell_type": "markdown",
   "metadata": {
    "id": "CwS-O0LoxzYM"
   },
   "source": [
    "# Linear Regression"
   ]
  },
  {
   "cell_type": "code",
   "execution_count": 124,
   "metadata": {
    "id": "PIjbQjeexzYN",
    "outputId": "0a2d61e2-29dd-43fc-8949-6cef6006c6ce"
   },
   "outputs": [
    {
     "name": "stdout",
     "output_type": "stream",
     "text": [
      "R Square:  0.0035022401513116197\n",
      "Slope:  [[-3.05615736e-03  4.20273195e-04  1.49139506e-03 -5.86778533e-08\n",
      "   8.67361738e-17  2.56840345e-02 -5.15212833e-02  1.22202240e-03]]\n",
      "intercept:  [-2.98303305]\n"
     ]
    }
   ],
   "source": [
    "from sklearn.linear_model import LinearRegression\n",
    "LR = LinearRegression()\n",
    "LR.fit(X_train, y_train)\n",
    "\n",
    "print('R Square: ',LR.score(X_train, y_train))\n",
    "print('Slope: ', LR.coef_)\n",
    "print('intercept: ', LR.intercept_)"
   ]
  },
  {
   "cell_type": "code",
   "execution_count": 125,
   "metadata": {},
   "outputs": [],
   "source": [
    "y_prediction_train = LR.predict(X_train)"
   ]
  },
  {
   "cell_type": "code",
   "execution_count": 126,
   "metadata": {},
   "outputs": [
    {
     "data": {
      "image/png": "[encoded data removed]",
      "text/plain": [
       "<Figure size 720x360 with 1 Axes>"
      ]
     },
     "metadata": {
      "needs_background": "light"
     },
     "output_type": "display_data"
    }
   ],
   "source": [
    "fig = plt.subplots(1,1,figsize = (10,5))\n",
    "\n",
    "_ = plt.scatter(y_train,y_prediction_train,c = \"red\",alpha = 0.3,label = \"Predicted Values\")\n",
    "_ = plt.plot(y_train,y_train,c = \"k\",lw = 2,label = \"True Values\")\n",
    "_ = plt.legend()\n",
    "ax.set_xlabel('True Value')\n",
    "ax.set_ylabel('Predicted Value')\n",
    "plt.title(\"Linear Regression\")\n",
    "plt.show()"
   ]
  },
  {
   "cell_type": "code",
   "execution_count": 127,
   "metadata": {
    "id": "pm9pV04hxzYO"
   },
   "outputs": [],
   "source": [
    "y_prediction_test =  LR.predict(X_test)"
   ]
  },
  {
   "cell_type": "code",
   "execution_count": 128,
   "metadata": {
    "id": "0KAdTAr4xzYO",
    "outputId": "8b6f645e-c450-4fff-eddc-4b7cfbb39af0"
   },
   "outputs": [
    {
     "data": {
      "image/png": "[encoded data removed]",
      "text/plain": [
       "<Figure size 720x360 with 1 Axes>"
      ]
     },
     "metadata": {
      "needs_background": "light"
     },
     "output_type": "display_data"
    }
   ],
   "source": [
    "fig = plt.subplots(1,1,figsize = (10,5))\n",
    "\n",
    "_ = plt.scatter(y_test,y_prediction_test,c = \"red\",alpha = 0.3,label = \"Predicted Values\")\n",
    "_ = plt.plot(y_test,y_test,c = \"k\",lw = 2,label = \"True Values\")\n",
    "_ = plt.legend()\n",
    "ax.set_xlabel('True Value')\n",
    "ax.set_ylabel('Predicted Value')\n",
    "plt.title(\"Linear Regression\")\n",
    "plt.show()"
   ]
  },
  {
   "cell_type": "code",
   "execution_count": 129,
   "metadata": {
    "id": "S15iBH7BxzYO",
    "outputId": "e2c81314-b2c5-421b-b3f7-672200883e19"
   },
   "outputs": [
    {
     "data": {
      "text/html": [
       "<div>\n",
       "<style scoped>\n",
       "    .dataframe tbody tr th:only-of-type {\n",
       "        vertical-align: middle;\n",
       "    }\n",
       "\n",
       "    .dataframe tbody tr th {\n",
       "        vertical-align: top;\n",
       "    }\n",
       "\n",
       "    .dataframe thead th {\n",
       "        text-align: right;\n",
       "    }\n",
       "</style>\n",
       "<table border=\"1\" class=\"dataframe\">\n",
       "  <thead>\n",
       "    <tr style=\"text-align: right;\">\n",
       "      <th></th>\n",
       "      <th>Brand</th>\n",
       "      <th>Model</th>\n",
       "      <th>Reg_Date</th>\n",
       "      <th>Km</th>\n",
       "      <th>Condition</th>\n",
       "      <th>Capacity</th>\n",
       "      <th>Type</th>\n",
       "      <th>Location</th>\n",
       "      <th>Price</th>\n",
       "      <th>p</th>\n",
       "      <th>Deviation</th>\n",
       "    </tr>\n",
       "  </thead>\n",
       "  <tbody>\n",
       "    <tr>\n",
       "      <th>0</th>\n",
       "      <td>11</td>\n",
       "      <td>99</td>\n",
       "      <td>2010</td>\n",
       "      <td>25000</td>\n",
       "      <td>0</td>\n",
       "      <td>1</td>\n",
       "      <td>1</td>\n",
       "      <td>19</td>\n",
       "      <td>-0.078845</td>\n",
       "      <td>0.018575</td>\n",
       "      <td>0.097420</td>\n",
       "    </tr>\n",
       "    <tr>\n",
       "      <th>1</th>\n",
       "      <td>11</td>\n",
       "      <td>50</td>\n",
       "      <td>2000</td>\n",
       "      <td>20000</td>\n",
       "      <td>0</td>\n",
       "      <td>0</td>\n",
       "      <td>2</td>\n",
       "      <td>14</td>\n",
       "      <td>-0.097847</td>\n",
       "      <td>-0.099955</td>\n",
       "      <td>-0.002108</td>\n",
       "    </tr>\n",
       "    <tr>\n",
       "      <th>2</th>\n",
       "      <td>23</td>\n",
       "      <td>181</td>\n",
       "      <td>2006</td>\n",
       "      <td>35000</td>\n",
       "      <td>0</td>\n",
       "      <td>0</td>\n",
       "      <td>1</td>\n",
       "      <td>43</td>\n",
       "      <td>-0.054114</td>\n",
       "      <td>0.013455</td>\n",
       "      <td>0.067569</td>\n",
       "    </tr>\n",
       "    <tr>\n",
       "      <th>3</th>\n",
       "      <td>35</td>\n",
       "      <td>122</td>\n",
       "      <td>2013</td>\n",
       "      <td>13000</td>\n",
       "      <td>0</td>\n",
       "      <td>0</td>\n",
       "      <td>1</td>\n",
       "      <td>14</td>\n",
       "      <td>-0.070702</td>\n",
       "      <td>-0.071723</td>\n",
       "      <td>-0.001021</td>\n",
       "    </tr>\n",
       "    <tr>\n",
       "      <th>4</th>\n",
       "      <td>35</td>\n",
       "      <td>55</td>\n",
       "      <td>2019</td>\n",
       "      <td>16666</td>\n",
       "      <td>0</td>\n",
       "      <td>3</td>\n",
       "      <td>0</td>\n",
       "      <td>14</td>\n",
       "      <td>0.021288</td>\n",
       "      <td>0.037426</td>\n",
       "      <td>0.016138</td>\n",
       "    </tr>\n",
       "    <tr>\n",
       "      <th>...</th>\n",
       "      <td>...</td>\n",
       "      <td>...</td>\n",
       "      <td>...</td>\n",
       "      <td>...</td>\n",
       "      <td>...</td>\n",
       "      <td>...</td>\n",
       "      <td>...</td>\n",
       "      <td>...</td>\n",
       "      <td>...</td>\n",
       "      <td>...</td>\n",
       "      <td>...</td>\n",
       "    </tr>\n",
       "    <tr>\n",
       "      <th>655</th>\n",
       "      <td>11</td>\n",
       "      <td>147</td>\n",
       "      <td>2011</td>\n",
       "      <td>5</td>\n",
       "      <td>0</td>\n",
       "      <td>0</td>\n",
       "      <td>1</td>\n",
       "      <td>14</td>\n",
       "      <td>0.316862</td>\n",
       "      <td>0.009912</td>\n",
       "      <td>-0.306950</td>\n",
       "    </tr>\n",
       "    <tr>\n",
       "      <th>656</th>\n",
       "      <td>30</td>\n",
       "      <td>193</td>\n",
       "      <td>2010</td>\n",
       "      <td>5</td>\n",
       "      <td>0</td>\n",
       "      <td>0</td>\n",
       "      <td>2</td>\n",
       "      <td>14</td>\n",
       "      <td>-0.085782</td>\n",
       "      <td>-0.081836</td>\n",
       "      <td>0.003947</td>\n",
       "    </tr>\n",
       "    <tr>\n",
       "      <th>657</th>\n",
       "      <td>11</td>\n",
       "      <td>147</td>\n",
       "      <td>2021</td>\n",
       "      <td>2000</td>\n",
       "      <td>0</td>\n",
       "      <td>0</td>\n",
       "      <td>1</td>\n",
       "      <td>14</td>\n",
       "      <td>0.105738</td>\n",
       "      <td>0.024708</td>\n",
       "      <td>-0.081029</td>\n",
       "    </tr>\n",
       "    <tr>\n",
       "      <th>658</th>\n",
       "      <td>11</td>\n",
       "      <td>152</td>\n",
       "      <td>2019</td>\n",
       "      <td>14000</td>\n",
       "      <td>0</td>\n",
       "      <td>0</td>\n",
       "      <td>1</td>\n",
       "      <td>43</td>\n",
       "      <td>-0.008873</td>\n",
       "      <td>0.058562</td>\n",
       "      <td>0.067434</td>\n",
       "    </tr>\n",
       "    <tr>\n",
       "      <th>659</th>\n",
       "      <td>11</td>\n",
       "      <td>147</td>\n",
       "      <td>2023</td>\n",
       "      <td>900</td>\n",
       "      <td>0</td>\n",
       "      <td>1</td>\n",
       "      <td>1</td>\n",
       "      <td>43</td>\n",
       "      <td>0.280669</td>\n",
       "      <td>0.088878</td>\n",
       "      <td>-0.191791</td>\n",
       "    </tr>\n",
       "  </tbody>\n",
       "</table>\n",
       "<p>660 rows × 11 columns</p>\n",
       "</div>"
      ],
      "text/plain": [
       "     Brand  Model  Reg_Date     Km  Condition  Capacity  Type  Location  \\\n",
       "0       11     99      2010  25000          0         1     1        19   \n",
       "1       11     50      2000  20000          0         0     2        14   \n",
       "2       23    181      2006  35000          0         0     1        43   \n",
       "3       35    122      2013  13000          0         0     1        14   \n",
       "4       35     55      2019  16666          0         3     0        14   \n",
       "..     ...    ...       ...    ...        ...       ...   ...       ...   \n",
       "655     11    147      2011      5          0         0     1        14   \n",
       "656     30    193      2010      5          0         0     2        14   \n",
       "657     11    147      2021   2000          0         0     1        14   \n",
       "658     11    152      2019  14000          0         0     1        43   \n",
       "659     11    147      2023    900          0         1     1        43   \n",
       "\n",
       "        Price         p  Deviation  \n",
       "0   -0.078845  0.018575   0.097420  \n",
       "1   -0.097847 -0.099955  -0.002108  \n",
       "2   -0.054114  0.013455   0.067569  \n",
       "3   -0.070702 -0.071723  -0.001021  \n",
       "4    0.021288  0.037426   0.016138  \n",
       "..        ...       ...        ...  \n",
       "655  0.316862  0.009912  -0.306950  \n",
       "656 -0.085782 -0.081836   0.003947  \n",
       "657  0.105738  0.024708  -0.081029  \n",
       "658 -0.008873  0.058562   0.067434  \n",
       "659  0.280669  0.088878  -0.191791  \n",
       "\n",
       "[660 rows x 11 columns]"
      ]
     },
     "execution_count": 129,
     "metadata": {},
     "output_type": "execute_result"
    }
   ],
   "source": [
    "# Mô hình dự đoán giá xe\n",
    "y_prediction_test=pd.DataFrame(y_prediction_test, columns=['p'])\n",
    "\n",
    "# So sánh với giá hiện tại\n",
    "result_compare= pd.concat([X_test,y_test,y_prediction_test],axis=1)\n",
    "result_compare['Deviation']=result_compare['p']-result_compare['Price']\n",
    "result_compare"
   ]
  },
  {
   "cell_type": "code",
   "execution_count": 130,
   "metadata": {},
   "outputs": [],
   "source": [
    "# Độ sai lệch tuyệt đối trung bình phần trăm\n",
    "def mean_absolute_percentage_error(y_test, y_prediction_test):\n",
    "  y_test, y_prediction_test = np.array(y_test), np.array(y_prediction_test)\n",
    "  return np.mean(np.abs((y_test - y_prediction_test) / y_test)) * 100"
   ]
  },
  {
   "cell_type": "code",
   "execution_count": 131,
   "metadata": {
    "id": "VdJFq0RpxzYP"
   },
   "outputs": [],
   "source": [
    "# Độ tuyệt đối trung bình\n",
    "mae = metrics.mean_absolute_error(y_test, y_prediction_test)\n",
    "\n",
    "# Độ lỗi trung bình bình phương\n",
    "mse = metrics.mean_squared_error(y_test, y_prediction_test)\n",
    "\n",
    "# Độ lỗi trung bình gốc\n",
    "rmse = np.sqrt(mse) #mse**(0.5)  \n",
    "\n",
    "# Đo lường tỉ lệ phương sai giữa dữ liệu thực tế và dữ liệu được dự đoán\n",
    "r2 = metrics.r2_score(y_test,y_prediction_test)\n",
    "\n",
    "# Tổng sai lệch của các giá trị dự đoán so với giá trị thực tế\n",
    "Total_Deviation=abs(result_compare['Deviation']).sum()\n",
    "\n",
    "# Độ chính xác của mô hình dự đoán\n",
    "mape = mean_absolute_percentage_error(y_test, y_prediction_test)"
   ]
  },
  {
   "cell_type": "code",
   "execution_count": 132,
   "metadata": {
    "id": "AjWsC7ODxzYP",
    "outputId": "e99586c0-c875-4c26-db2d-1415335f5948"
   },
   "outputs": [
    {
     "name": "stdout",
     "output_type": "stream",
     "text": [
      "Results of sklearn metrics:\n",
      "MAE: 0.06756345625792017\n",
      "MSE: 0.009755337247906606\n",
      "RMSE: 0.09876911079839995\n",
      "R-Squared: 0.04799994677513597\n",
      "Total_Deviation: 44.59188113022731\n",
      "MAPE 625.3686803296081\n"
     ]
    }
   ],
   "source": [
    "print(\"Results of sklearn metrics:\")\n",
    "print(\"MAE:\",mae)\n",
    "print(\"MSE:\", mse)\n",
    "print(\"RMSE:\", rmse)\n",
    "print(\"R-Squared:\", r2)\n",
    "print(\"Total_Deviation:\", Total_Deviation)\n",
    "print(\"MAPE\", mape)"
   ]
  },
  {
   "cell_type": "markdown",
   "metadata": {
    "id": "pQrP023BxzYP"
   },
   "source": [
    "# Random Forest Regressor"
   ]
  },
  {
   "cell_type": "code",
   "execution_count": 133,
   "metadata": {
    "id": "Z-7SH-_dxzYP"
   },
   "outputs": [],
   "source": [
    "from sklearn.ensemble import RandomForestRegressor"
   ]
  },
  {
   "cell_type": "code",
   "execution_count": 134,
   "metadata": {
    "id": "30OtSyG4xzYP",
    "outputId": "05ac8e29-644f-4fb6-bee5-e52c45b1b2a9"
   },
   "outputs": [
    {
     "name": "stderr",
     "output_type": "stream",
     "text": [
      "<ipython-input-134-8d359fc1e0d9>:2: DataConversionWarning: A column-vector y was passed when a 1d array was expected. Please change the shape of y to (n_samples,), for example using ravel().\n",
      "  RF.fit(X_train,y_train)\n"
     ]
    },
    {
     "name": "stdout",
     "output_type": "stream",
     "text": [
      "R Square:  0.6777708966014322\n",
      "Feature Importances:  [0.02529322 0.08701355 0.34577994 0.43375653 0.         0.02094295\n",
      " 0.01427924 0.07293456]\n"
     ]
    }
   ],
   "source": [
    "RF = RandomForestRegressor()\n",
    "RF.fit(X_train,y_train)\n",
    "\n",
    "print('R Square: ', RF.score(X_train, y_train))\n",
    "print('Feature Importances: ', RF.feature_importances_)"
   ]
  },
  {
   "cell_type": "code",
   "execution_count": 135,
   "metadata": {},
   "outputs": [],
   "source": [
    "y_prediction = RF.predict(X_train)"
   ]
  },
  {
   "cell_type": "code",
   "execution_count": 136,
   "metadata": {},
   "outputs": [
    {
     "data": {
      "image/png": "[encoded data removed]",
      "text/plain": [
       "<Figure size 720x360 with 1 Axes>"
      ]
     },
     "metadata": {
      "needs_background": "light"
     },
     "output_type": "display_data"
    }
   ],
   "source": [
    "fig = plt.subplots(1,1,figsize = (10, 5))\n",
    "\n",
    "_ = plt.scatter(y_train,y_prediction,c = \"green\",alpha = 0.3,label = \"Predicted Values\")\n",
    "_ = plt.plot(y_train,y_train,c = \"k\",lw = 2,label = \"True Values\")\n",
    "_ = plt.legend()\n",
    "ax.set_xlabel('True Value')\n",
    "ax.set_ylabel('Predicted Value')\n",
    "plt.title(\"Random Forest\")\n",
    "plt.show()"
   ]
  },
  {
   "cell_type": "code",
   "execution_count": 137,
   "metadata": {
    "id": "ntl1FeNHxzYQ"
   },
   "outputs": [],
   "source": [
    "y_prediction_ = RF.predict(X_test)"
   ]
  },
  {
   "cell_type": "code",
   "execution_count": 138,
   "metadata": {
    "id": "4y8paCxnxzYQ",
    "outputId": "90b5f1dd-7158-40d5-9709-edc16f35c2af"
   },
   "outputs": [
    {
     "data": {
      "image/png": "[encoded data removed]",
      "text/plain": [
       "<Figure size 720x360 with 1 Axes>"
      ]
     },
     "metadata": {
      "needs_background": "light"
     },
     "output_type": "display_data"
    }
   ],
   "source": [
    "fig = plt.subplots(1,1,figsize = (10, 5))\n",
    "\n",
    "_ = plt.scatter(y_test,y_prediction_,c = \"green\",alpha = 0.3,label = \"Predicted Values\")\n",
    "_ = plt.plot(y_test,y_test,c = \"k\",lw = 2,label = \"True Values\")\n",
    "_ = plt.legend()\n",
    "ax.set_xlabel('True Value')\n",
    "ax.set_ylabel('Predicted Value')\n",
    "plt.title(\"Random Forest\")\n",
    "plt.show()"
   ]
  },
  {
   "cell_type": "code",
   "execution_count": 139,
   "metadata": {
    "id": "KMifHL57xzYQ",
    "outputId": "570883b2-4094-4920-8599-ff918fb05105"
   },
   "outputs": [
    {
     "data": {
      "text/html": [
       "<div>\n",
       "<style scoped>\n",
       "    .dataframe tbody tr th:only-of-type {\n",
       "        vertical-align: middle;\n",
       "    }\n",
       "\n",
       "    .dataframe tbody tr th {\n",
       "        vertical-align: top;\n",
       "    }\n",
       "\n",
       "    .dataframe thead th {\n",
       "        text-align: right;\n",
       "    }\n",
       "</style>\n",
       "<table border=\"1\" class=\"dataframe\">\n",
       "  <thead>\n",
       "    <tr style=\"text-align: right;\">\n",
       "      <th></th>\n",
       "      <th>Brand</th>\n",
       "      <th>Model</th>\n",
       "      <th>Reg_Date</th>\n",
       "      <th>Km</th>\n",
       "      <th>Condition</th>\n",
       "      <th>Capacity</th>\n",
       "      <th>Type</th>\n",
       "      <th>Location</th>\n",
       "      <th>Price</th>\n",
       "      <th>Price_predict</th>\n",
       "      <th>Dev</th>\n",
       "    </tr>\n",
       "  </thead>\n",
       "  <tbody>\n",
       "    <tr>\n",
       "      <th>0</th>\n",
       "      <td>11</td>\n",
       "      <td>99</td>\n",
       "      <td>2010</td>\n",
       "      <td>25000</td>\n",
       "      <td>0</td>\n",
       "      <td>1</td>\n",
       "      <td>1</td>\n",
       "      <td>19</td>\n",
       "      <td>-0.078845</td>\n",
       "      <td>-0.080455</td>\n",
       "      <td>-0.001609</td>\n",
       "    </tr>\n",
       "    <tr>\n",
       "      <th>1</th>\n",
       "      <td>11</td>\n",
       "      <td>50</td>\n",
       "      <td>2000</td>\n",
       "      <td>20000</td>\n",
       "      <td>0</td>\n",
       "      <td>0</td>\n",
       "      <td>2</td>\n",
       "      <td>14</td>\n",
       "      <td>-0.097847</td>\n",
       "      <td>-0.048229</td>\n",
       "      <td>0.049617</td>\n",
       "    </tr>\n",
       "    <tr>\n",
       "      <th>2</th>\n",
       "      <td>23</td>\n",
       "      <td>181</td>\n",
       "      <td>2006</td>\n",
       "      <td>35000</td>\n",
       "      <td>0</td>\n",
       "      <td>0</td>\n",
       "      <td>1</td>\n",
       "      <td>43</td>\n",
       "      <td>-0.054114</td>\n",
       "      <td>-0.057498</td>\n",
       "      <td>-0.003384</td>\n",
       "    </tr>\n",
       "    <tr>\n",
       "      <th>3</th>\n",
       "      <td>35</td>\n",
       "      <td>122</td>\n",
       "      <td>2013</td>\n",
       "      <td>13000</td>\n",
       "      <td>0</td>\n",
       "      <td>0</td>\n",
       "      <td>1</td>\n",
       "      <td>14</td>\n",
       "      <td>-0.070702</td>\n",
       "      <td>-0.072165</td>\n",
       "      <td>-0.001463</td>\n",
       "    </tr>\n",
       "    <tr>\n",
       "      <th>4</th>\n",
       "      <td>35</td>\n",
       "      <td>55</td>\n",
       "      <td>2019</td>\n",
       "      <td>16666</td>\n",
       "      <td>0</td>\n",
       "      <td>3</td>\n",
       "      <td>0</td>\n",
       "      <td>14</td>\n",
       "      <td>0.021288</td>\n",
       "      <td>0.107277</td>\n",
       "      <td>0.085989</td>\n",
       "    </tr>\n",
       "    <tr>\n",
       "      <th>...</th>\n",
       "      <td>...</td>\n",
       "      <td>...</td>\n",
       "      <td>...</td>\n",
       "      <td>...</td>\n",
       "      <td>...</td>\n",
       "      <td>...</td>\n",
       "      <td>...</td>\n",
       "      <td>...</td>\n",
       "      <td>...</td>\n",
       "      <td>...</td>\n",
       "      <td>...</td>\n",
       "    </tr>\n",
       "    <tr>\n",
       "      <th>655</th>\n",
       "      <td>11</td>\n",
       "      <td>147</td>\n",
       "      <td>2011</td>\n",
       "      <td>5</td>\n",
       "      <td>0</td>\n",
       "      <td>0</td>\n",
       "      <td>1</td>\n",
       "      <td>14</td>\n",
       "      <td>0.316862</td>\n",
       "      <td>0.461405</td>\n",
       "      <td>0.144543</td>\n",
       "    </tr>\n",
       "    <tr>\n",
       "      <th>656</th>\n",
       "      <td>30</td>\n",
       "      <td>193</td>\n",
       "      <td>2010</td>\n",
       "      <td>5</td>\n",
       "      <td>0</td>\n",
       "      <td>0</td>\n",
       "      <td>2</td>\n",
       "      <td>14</td>\n",
       "      <td>-0.085782</td>\n",
       "      <td>-0.072387</td>\n",
       "      <td>0.013395</td>\n",
       "    </tr>\n",
       "    <tr>\n",
       "      <th>657</th>\n",
       "      <td>11</td>\n",
       "      <td>147</td>\n",
       "      <td>2021</td>\n",
       "      <td>2000</td>\n",
       "      <td>0</td>\n",
       "      <td>0</td>\n",
       "      <td>1</td>\n",
       "      <td>14</td>\n",
       "      <td>0.105738</td>\n",
       "      <td>0.193497</td>\n",
       "      <td>0.087760</td>\n",
       "    </tr>\n",
       "    <tr>\n",
       "      <th>658</th>\n",
       "      <td>11</td>\n",
       "      <td>152</td>\n",
       "      <td>2019</td>\n",
       "      <td>14000</td>\n",
       "      <td>0</td>\n",
       "      <td>0</td>\n",
       "      <td>1</td>\n",
       "      <td>43</td>\n",
       "      <td>-0.008873</td>\n",
       "      <td>-0.012304</td>\n",
       "      <td>-0.003431</td>\n",
       "    </tr>\n",
       "    <tr>\n",
       "      <th>659</th>\n",
       "      <td>11</td>\n",
       "      <td>147</td>\n",
       "      <td>2023</td>\n",
       "      <td>900</td>\n",
       "      <td>0</td>\n",
       "      <td>1</td>\n",
       "      <td>1</td>\n",
       "      <td>43</td>\n",
       "      <td>0.280669</td>\n",
       "      <td>0.213388</td>\n",
       "      <td>-0.067281</td>\n",
       "    </tr>\n",
       "  </tbody>\n",
       "</table>\n",
       "<p>660 rows × 11 columns</p>\n",
       "</div>"
      ],
      "text/plain": [
       "     Brand  Model  Reg_Date     Km  Condition  Capacity  Type  Location  \\\n",
       "0       11     99      2010  25000          0         1     1        19   \n",
       "1       11     50      2000  20000          0         0     2        14   \n",
       "2       23    181      2006  35000          0         0     1        43   \n",
       "3       35    122      2013  13000          0         0     1        14   \n",
       "4       35     55      2019  16666          0         3     0        14   \n",
       "..     ...    ...       ...    ...        ...       ...   ...       ...   \n",
       "655     11    147      2011      5          0         0     1        14   \n",
       "656     30    193      2010      5          0         0     2        14   \n",
       "657     11    147      2021   2000          0         0     1        14   \n",
       "658     11    152      2019  14000          0         0     1        43   \n",
       "659     11    147      2023    900          0         1     1        43   \n",
       "\n",
       "        Price  Price_predict       Dev  \n",
       "0   -0.078845      -0.080455 -0.001609  \n",
       "1   -0.097847      -0.048229  0.049617  \n",
       "2   -0.054114      -0.057498 -0.003384  \n",
       "3   -0.070702      -0.072165 -0.001463  \n",
       "4    0.021288       0.107277  0.085989  \n",
       "..        ...            ...       ...  \n",
       "655  0.316862       0.461405  0.144543  \n",
       "656 -0.085782      -0.072387  0.013395  \n",
       "657  0.105738       0.193497  0.087760  \n",
       "658 -0.008873      -0.012304 -0.003431  \n",
       "659  0.280669       0.213388 -0.067281  \n",
       "\n",
       "[660 rows x 11 columns]"
      ]
     },
     "execution_count": 139,
     "metadata": {},
     "output_type": "execute_result"
    }
   ],
   "source": [
    "# Mô hình dự đoán giá xe\n",
    "y_prediction_=pd.DataFrame(y_prediction_, columns=['Price_predict'])\n",
    "\n",
    "# So sánh với giá hiện tại\n",
    "result_cp= pd.concat([X_test,y_test,y_prediction_],axis=1)\n",
    "result_cp['Dev']=result_cp['Price_predict']-result_cp['Price']\n",
    "result_cp"
   ]
  },
  {
   "cell_type": "code",
   "execution_count": 140,
   "metadata": {},
   "outputs": [],
   "source": [
    "# Độ sai lệch tuyệt đối trung bình phần trăm\n",
    "def mean_absolute_percentage_error(y_test, y_prediction_):\n",
    "  y_test, y_prediction_ = np.array(y_test), np.array(y_prediction_)\n",
    "  return np.mean(np.abs((y_test - y_prediction_) / y_test)) * 100"
   ]
  },
  {
   "cell_type": "code",
   "execution_count": 141,
   "metadata": {
    "id": "GWMPoAe-xzYQ"
   },
   "outputs": [],
   "source": [
    "# Đo lỗi trung bình tuyệt đối giữa các giá trị dự đoán và giá trị thực tế\n",
    "mae = metrics.mean_absolute_error(y_test, y_prediction_)\n",
    "\n",
    "# Đo lỗi trung bình bình phương giữa các giá trị dự đoán và giá trị thực tế\n",
    "mse = metrics.mean_squared_error(y_test, y_prediction_)\n",
    "\n",
    "# Đo lỗi trung bình căn bậc hai giữa các giá trị dự đoán và giá trị thực tế\n",
    "rmse = np.sqrt(mse) #mse**(0.5)  \n",
    "\n",
    "# Đo độ chính xác của mô hình\n",
    "r2 = metrics.r2_score(y_test,y_prediction_)\n",
    "\n",
    "# Tổng giá trị tuyệt đối của sai số (độ lệch) giữa giá trị dự đoán và giá trị thực tế\n",
    "Total_Deviation=abs(result_cp['Dev']).sum()\n",
    "\n",
    "# Độ chính xác của mô hình dự đoán\n",
    "mape = mean_absolute_percentage_error(y_test, y_prediction_)"
   ]
  },
  {
   "cell_type": "code",
   "execution_count": 142,
   "metadata": {
    "id": "gkbFxGkMxzYQ",
    "outputId": "7dca2a15-3ef5-43fe-9d6c-5b1042f8bdfa"
   },
   "outputs": [
    {
     "name": "stdout",
     "output_type": "stream",
     "text": [
      "Results of sklearn metrics:\n",
      "MAE: 0.03058548343097539\n",
      "MSE: 0.0046904686673958145\n",
      "RMSE: 0.0684869963379605\n",
      "R-Squared: 0.5422683698640367\n",
      "Total_Deviation: 20.186419064443758\n",
      "MAPE 252.0896597543527\n"
     ]
    }
   ],
   "source": [
    "print(\"Results of sklearn metrics:\")\n",
    "print(\"MAE:\",mae)\n",
    "print(\"MSE:\", mse)\n",
    "print(\"RMSE:\", rmse)\n",
    "print(\"R-Squared:\", r2)\n",
    "print(\"Total_Deviation:\", Total_Deviation)\n",
    "print(\"MAPE\", mape)"
   ]
  },
  {
   "cell_type": "markdown",
   "metadata": {
    "id": "4W1P04cExzYQ"
   },
   "source": [
    "# Bagging Regressor"
   ]
  },
  {
   "cell_type": "code",
   "execution_count": 143,
   "metadata": {
    "id": "0hvU5NiAxzYR"
   },
   "outputs": [],
   "source": [
    "from sklearn.preprocessing import LabelEncoder, StandardScaler\n",
    "from sklearn.model_selection import train_test_split, cross_val_score, GridSearchCV, StratifiedKFold\n",
    "from sklearn.svm import SVR\n",
    "from sklearn.ensemble import BaggingRegressor\n",
    "from sklearn.datasets import make_regression\n",
    "from sklearn.ensemble import RandomForestRegressor\n",
    "from sklearn.tree import DecisionTreeRegressor "
   ]
  },
  {
   "cell_type": "code",
   "execution_count": 144,
   "metadata": {
    "id": "T_An98uYxzYR",
    "outputId": "5ee841d1-30bd-41ff-87ef-b8318ac82b0b"
   },
   "outputs": [
    {
     "name": "stderr",
     "output_type": "stream",
     "text": [
      "c:\\program files\\python38\\lib\\site-packages\\sklearn\\ensemble\\_bagging.py:470: DataConversionWarning: A column-vector y was passed when a 1d array was expected. Please change the shape of y to (n_samples, ), for example using ravel().\n",
      "  return column_or_1d(y, warn=True)\n"
     ]
    }
   ],
   "source": [
    "regr = BaggingRegressor(base_estimator= DecisionTreeRegressor(),n_estimators=10, random_state=0).fit(X_train,y_train)"
   ]
  },
  {
   "cell_type": "code",
   "execution_count": 145,
   "metadata": {},
   "outputs": [],
   "source": [
    "y_pred_ = regr.predict(X_train)"
   ]
  },
  {
   "cell_type": "code",
   "execution_count": 146,
   "metadata": {},
   "outputs": [
    {
     "data": {
      "image/png": "[encoded data removed]",
      "text/plain": [
       "<Figure size 720x360 with 1 Axes>"
      ]
     },
     "metadata": {
      "needs_background": "light"
     },
     "output_type": "display_data"
    }
   ],
   "source": [
    "fig = plt.subplots(1,1,figsize = (10,5))\n",
    "\n",
    "_ = plt.scatter(y_train, y_pred_,c = \"red\",alpha = 0.3,label = \"Predicted Values\")\n",
    "_ = plt.plot(y_train,y_train,c = \"k\",lw = 2,label = \"True Values\")\n",
    "_ = plt.legend()\n",
    "ax.set_xlabel('True Value')\n",
    "ax.set_ylabel('Predicted Value')\n",
    "plt.title(\"Bagging Regressor\")\n",
    "plt.show()"
   ]
  },
  {
   "cell_type": "code",
   "execution_count": 147,
   "metadata": {
    "id": "EbDUPe9axzYR"
   },
   "outputs": [
    {
     "name": "stdout",
     "output_type": "stream",
     "text": [
      "Mean squared error:  0.0046904686673958145\n",
      "Coefficient of determination (R^2):  0.5422683698640367\n"
     ]
    }
   ],
   "source": [
    "y_pred = regr.predict(X_test)\n",
    "print('Mean squared error: ', mse)\n",
    "print('Coefficient of determination (R^2): ', r2)\n"
   ]
  },
  {
   "cell_type": "code",
   "execution_count": 148,
   "metadata": {
    "id": "VkPOzs_5xzYR",
    "outputId": "47d0da26-33d3-4fb6-e8ee-4216baf25b78",
    "scrolled": false
   },
   "outputs": [
    {
     "data": {
      "image/png": "[encoded data removed]",
      "text/plain": [
       "<Figure size 720x360 with 1 Axes>"
      ]
     },
     "metadata": {
      "needs_background": "light"
     },
     "output_type": "display_data"
    }
   ],
   "source": [
    "fig = plt.subplots(1,1,figsize = (10,5))\n",
    "\n",
    "_ = plt.scatter(y_test, y_pred,c = \"red\",alpha = 0.3,label = \"Predicted Values\")\n",
    "_ = plt.plot(y_test,y_test,c = \"k\",lw = 2,label = \"True Values\")\n",
    "_ = plt.legend()\n",
    "ax.set_xlabel('True Value')\n",
    "ax.set_ylabel('Predicted Value')\n",
    "plt.title(\"Bagging Regressor\")\n",
    "plt.show()"
   ]
  },
  {
   "cell_type": "code",
   "execution_count": 149,
   "metadata": {
    "id": "XlBBcFLmxzYR",
    "outputId": "16297b42-fe66-4a62-85cc-96c036ab5c43"
   },
   "outputs": [
    {
     "data": {
      "text/html": [
       "<div>\n",
       "<style scoped>\n",
       "    .dataframe tbody tr th:only-of-type {\n",
       "        vertical-align: middle;\n",
       "    }\n",
       "\n",
       "    .dataframe tbody tr th {\n",
       "        vertical-align: top;\n",
       "    }\n",
       "\n",
       "    .dataframe thead th {\n",
       "        text-align: right;\n",
       "    }\n",
       "</style>\n",
       "<table border=\"1\" class=\"dataframe\">\n",
       "  <thead>\n",
       "    <tr style=\"text-align: right;\">\n",
       "      <th></th>\n",
       "      <th>Brand</th>\n",
       "      <th>Model</th>\n",
       "      <th>Reg_Date</th>\n",
       "      <th>Km</th>\n",
       "      <th>Condition</th>\n",
       "      <th>Capacity</th>\n",
       "      <th>Type</th>\n",
       "      <th>Location</th>\n",
       "      <th>Price</th>\n",
       "      <th>Price_predict</th>\n",
       "      <th>Dev</th>\n",
       "    </tr>\n",
       "  </thead>\n",
       "  <tbody>\n",
       "    <tr>\n",
       "      <th>0</th>\n",
       "      <td>11</td>\n",
       "      <td>99</td>\n",
       "      <td>2010</td>\n",
       "      <td>25000</td>\n",
       "      <td>0</td>\n",
       "      <td>1</td>\n",
       "      <td>1</td>\n",
       "      <td>19</td>\n",
       "      <td>-0.078845</td>\n",
       "      <td>-0.081032</td>\n",
       "      <td>-0.002187</td>\n",
       "    </tr>\n",
       "    <tr>\n",
       "      <th>1</th>\n",
       "      <td>11</td>\n",
       "      <td>50</td>\n",
       "      <td>2000</td>\n",
       "      <td>20000</td>\n",
       "      <td>0</td>\n",
       "      <td>0</td>\n",
       "      <td>2</td>\n",
       "      <td>14</td>\n",
       "      <td>-0.097847</td>\n",
       "      <td>-0.057793</td>\n",
       "      <td>0.040053</td>\n",
       "    </tr>\n",
       "    <tr>\n",
       "      <th>2</th>\n",
       "      <td>23</td>\n",
       "      <td>181</td>\n",
       "      <td>2006</td>\n",
       "      <td>35000</td>\n",
       "      <td>0</td>\n",
       "      <td>0</td>\n",
       "      <td>1</td>\n",
       "      <td>43</td>\n",
       "      <td>-0.054114</td>\n",
       "      <td>-0.079026</td>\n",
       "      <td>-0.024913</td>\n",
       "    </tr>\n",
       "    <tr>\n",
       "      <th>3</th>\n",
       "      <td>35</td>\n",
       "      <td>122</td>\n",
       "      <td>2013</td>\n",
       "      <td>13000</td>\n",
       "      <td>0</td>\n",
       "      <td>0</td>\n",
       "      <td>1</td>\n",
       "      <td>14</td>\n",
       "      <td>-0.070702</td>\n",
       "      <td>-0.072813</td>\n",
       "      <td>-0.002111</td>\n",
       "    </tr>\n",
       "    <tr>\n",
       "      <th>4</th>\n",
       "      <td>35</td>\n",
       "      <td>55</td>\n",
       "      <td>2019</td>\n",
       "      <td>16666</td>\n",
       "      <td>0</td>\n",
       "      <td>3</td>\n",
       "      <td>0</td>\n",
       "      <td>14</td>\n",
       "      <td>0.021288</td>\n",
       "      <td>0.064686</td>\n",
       "      <td>0.043398</td>\n",
       "    </tr>\n",
       "    <tr>\n",
       "      <th>...</th>\n",
       "      <td>...</td>\n",
       "      <td>...</td>\n",
       "      <td>...</td>\n",
       "      <td>...</td>\n",
       "      <td>...</td>\n",
       "      <td>...</td>\n",
       "      <td>...</td>\n",
       "      <td>...</td>\n",
       "      <td>...</td>\n",
       "      <td>...</td>\n",
       "      <td>...</td>\n",
       "    </tr>\n",
       "    <tr>\n",
       "      <th>655</th>\n",
       "      <td>11</td>\n",
       "      <td>147</td>\n",
       "      <td>2011</td>\n",
       "      <td>5</td>\n",
       "      <td>0</td>\n",
       "      <td>0</td>\n",
       "      <td>1</td>\n",
       "      <td>14</td>\n",
       "      <td>0.316862</td>\n",
       "      <td>0.496318</td>\n",
       "      <td>0.179456</td>\n",
       "    </tr>\n",
       "    <tr>\n",
       "      <th>656</th>\n",
       "      <td>30</td>\n",
       "      <td>193</td>\n",
       "      <td>2010</td>\n",
       "      <td>5</td>\n",
       "      <td>0</td>\n",
       "      <td>0</td>\n",
       "      <td>2</td>\n",
       "      <td>14</td>\n",
       "      <td>-0.085782</td>\n",
       "      <td>0.048327</td>\n",
       "      <td>0.134109</td>\n",
       "    </tr>\n",
       "    <tr>\n",
       "      <th>657</th>\n",
       "      <td>11</td>\n",
       "      <td>147</td>\n",
       "      <td>2021</td>\n",
       "      <td>2000</td>\n",
       "      <td>0</td>\n",
       "      <td>0</td>\n",
       "      <td>1</td>\n",
       "      <td>14</td>\n",
       "      <td>0.105738</td>\n",
       "      <td>0.234271</td>\n",
       "      <td>0.128534</td>\n",
       "    </tr>\n",
       "    <tr>\n",
       "      <th>658</th>\n",
       "      <td>11</td>\n",
       "      <td>152</td>\n",
       "      <td>2019</td>\n",
       "      <td>14000</td>\n",
       "      <td>0</td>\n",
       "      <td>0</td>\n",
       "      <td>1</td>\n",
       "      <td>43</td>\n",
       "      <td>-0.008873</td>\n",
       "      <td>-0.016353</td>\n",
       "      <td>-0.007480</td>\n",
       "    </tr>\n",
       "    <tr>\n",
       "      <th>659</th>\n",
       "      <td>11</td>\n",
       "      <td>147</td>\n",
       "      <td>2023</td>\n",
       "      <td>900</td>\n",
       "      <td>0</td>\n",
       "      <td>1</td>\n",
       "      <td>1</td>\n",
       "      <td>43</td>\n",
       "      <td>0.280669</td>\n",
       "      <td>0.149350</td>\n",
       "      <td>-0.131319</td>\n",
       "    </tr>\n",
       "  </tbody>\n",
       "</table>\n",
       "<p>660 rows × 11 columns</p>\n",
       "</div>"
      ],
      "text/plain": [
       "     Brand  Model  Reg_Date     Km  Condition  Capacity  Type  Location  \\\n",
       "0       11     99      2010  25000          0         1     1        19   \n",
       "1       11     50      2000  20000          0         0     2        14   \n",
       "2       23    181      2006  35000          0         0     1        43   \n",
       "3       35    122      2013  13000          0         0     1        14   \n",
       "4       35     55      2019  16666          0         3     0        14   \n",
       "..     ...    ...       ...    ...        ...       ...   ...       ...   \n",
       "655     11    147      2011      5          0         0     1        14   \n",
       "656     30    193      2010      5          0         0     2        14   \n",
       "657     11    147      2021   2000          0         0     1        14   \n",
       "658     11    152      2019  14000          0         0     1        43   \n",
       "659     11    147      2023    900          0         1     1        43   \n",
       "\n",
       "        Price  Price_predict       Dev  \n",
       "0   -0.078845      -0.081032 -0.002187  \n",
       "1   -0.097847      -0.057793  0.040053  \n",
       "2   -0.054114      -0.079026 -0.024913  \n",
       "3   -0.070702      -0.072813 -0.002111  \n",
       "4    0.021288       0.064686  0.043398  \n",
       "..        ...            ...       ...  \n",
       "655  0.316862       0.496318  0.179456  \n",
       "656 -0.085782       0.048327  0.134109  \n",
       "657  0.105738       0.234271  0.128534  \n",
       "658 -0.008873      -0.016353 -0.007480  \n",
       "659  0.280669       0.149350 -0.131319  \n",
       "\n",
       "[660 rows x 11 columns]"
      ]
     },
     "execution_count": 149,
     "metadata": {},
     "output_type": "execute_result"
    }
   ],
   "source": [
    "y_pred = pd.DataFrame(y_pred, columns=['Price_predict'])\n",
    "result_c = pd.concat([X_test, y_test, y_pred], axis=1)\n",
    "result_c['Dev'] = result_c['Price_predict'] - result_c['Price']\n",
    "result_c"
   ]
  },
  {
   "cell_type": "code",
   "execution_count": 150,
   "metadata": {},
   "outputs": [],
   "source": [
    "# Độ sai lệch tuyệt đối trung bình phần trăm\n",
    "def mean_absolute_percentage_error(y_test, y_pred):\n",
    "  y_test, y_pred = np.array(y_test), np.array(y_pred)\n",
    "  return np.mean(np.abs((y_test - y_pred) / y_test)) * 100"
   ]
  },
  {
   "cell_type": "code",
   "execution_count": 151,
   "metadata": {
    "id": "nAElLYrsxzYR"
   },
   "outputs": [],
   "source": [
    "# Tính giá trị sai số trung bình tuyệt đối\n",
    "mae = metrics.mean_absolute_error(y_test, y_pred)\n",
    "\n",
    "# Tính giá trị sai số bình phương trung bình\n",
    "mse = metrics.mean_squared_error(y_test, y_pred)\n",
    "\n",
    "# Tính giá trị sai số chuẩn\n",
    "rmse = np.sqrt(mse) #mse**(0.5)  \n",
    "\n",
    "# Tính hệ số xác định R2 giữa giá trị thực tế và giá trị dự đoán\n",
    "r2 = metrics.r2_score(y_test,y_pred)\n",
    "\n",
    "# Tính tổng giá trị độ lệch tuyệt đối của các mẫu trong tập dữ liệu so với giá trị dự đoán\n",
    "Total_Deviation=abs(result_c['Dev']).sum()\n",
    "\n",
    "# Độ chính xác của mô hình dự đoán\n",
    "mape = mean_absolute_percentage_error(y_test, y_pred)"
   ]
  },
  {
   "cell_type": "code",
   "execution_count": 152,
   "metadata": {
    "id": "qX27QiJqxzYS",
    "outputId": "f711f4db-65ab-44f9-eaa7-aeb6414dca8f"
   },
   "outputs": [
    {
     "name": "stdout",
     "output_type": "stream",
     "text": [
      "Results of sklearn metrics:\n",
      "MAE: 0.029783993220899137\n",
      "MSE: 0.003782014276951674\n",
      "RMSE: 0.06149808352259178\n",
      "R-Squared: 0.6309222632228513\n",
      "Total_Deviation: 19.65743552579343\n",
      "MAPE 285.2970264724985\n"
     ]
    }
   ],
   "source": [
    "print(\"Results of sklearn metrics:\")\n",
    "print(\"MAE:\",mae)\n",
    "print(\"MSE:\", mse)\n",
    "print(\"RMSE:\", rmse)\n",
    "print(\"R-Squared:\", r2)\n",
    "print(\"Total_Deviation:\", Total_Deviation)\n",
    "print(\"MAPE\", mape)"
   ]
  },
  {
   "cell_type": "markdown",
   "metadata": {
    "id": "eA2_dqKVxzYS"
   },
   "source": [
    "# Decision Tree"
   ]
  },
  {
   "cell_type": "code",
   "execution_count": 153,
   "metadata": {
    "id": "ld02CuyFxzYS"
   },
   "outputs": [],
   "source": [
    "from sklearn.tree import DecisionTreeRegressor\n",
    "from sklearn import metrics\n",
    "import numpy as np\n",
    "import matplotlib.pyplot as plt"
   ]
  },
  {
   "cell_type": "code",
   "execution_count": 154,
   "metadata": {
    "id": "nq_F6k6DxzYS"
   },
   "outputs": [],
   "source": [
    "DT = DecisionTreeRegressor(random_state=0)"
   ]
  },
  {
   "cell_type": "code",
   "execution_count": 155,
   "metadata": {},
   "outputs": [
    {
     "name": "stdout",
     "output_type": "stream",
     "text": [
      "R Square:  0.5851992635236909\n"
     ]
    }
   ],
   "source": [
    "DT.fit(X_train, y_train)\n",
    "y_predict_ = DT.predict(X_train)\n",
    "\n",
    "print('R Square: ',regr.score(X_train, y_train))"
   ]
  },
  {
   "cell_type": "code",
   "execution_count": 156,
   "metadata": {},
   "outputs": [
    {
     "data": {
      "image/png": "[encoded data removed]",
      "text/plain": [
       "<Figure size 720x360 with 1 Axes>"
      ]
     },
     "metadata": {
      "needs_background": "light"
     },
     "output_type": "display_data"
    }
   ],
   "source": [
    "fig = plt.subplots(1,1,figsize = (10, 5))\n",
    "_ = plt.scatter(y_train,y_predict_,c = \"green\",alpha = 0.3,label = \"Predicted Values\")\n",
    "_ = plt.plot(y_train,y_train,c = \"k\",lw = 2,label = \"True Values\")\n",
    "ax.set_xlabel('True Value')\n",
    "ax.set_ylabel('Predicted Value')\n",
    "plt.title(\"Decision Tree\")\n",
    "plt.show()"
   ]
  },
  {
   "cell_type": "code",
   "execution_count": 157,
   "metadata": {
    "id": "HQMhPcBExzYS"
   },
   "outputs": [],
   "source": [
    "y_predict = DT.predict(X_test)"
   ]
  },
  {
   "cell_type": "code",
   "execution_count": 158,
   "metadata": {
    "id": "bOLW1CyfxzYS",
    "outputId": "5b0235ec-7ed6-4508-f803-96e964b72e45"
   },
   "outputs": [
    {
     "data": {
      "image/png": "[encoded data removed]",
      "text/plain": [
       "<Figure size 720x360 with 1 Axes>"
      ]
     },
     "metadata": {
      "needs_background": "light"
     },
     "output_type": "display_data"
    }
   ],
   "source": [
    "fig = plt.subplots(1,1,figsize = (10, 5))\n",
    "_ = plt.scatter(y_test,y_predict,c = \"green\",alpha = 0.3,label = \"Predicted Values\")\n",
    "_ = plt.plot(y_test,y_test,c = \"k\",lw = 2,label = \"True Values\")\n",
    "ax.set_xlabel('True Value')\n",
    "ax.set_ylabel('Predicted Value')\n",
    "plt.title(\"Decision Tree\")\n",
    "plt.show()"
   ]
  },
  {
   "cell_type": "code",
   "execution_count": 159,
   "metadata": {},
   "outputs": [
    {
     "data": {
      "text/html": [
       "<div>\n",
       "<style scoped>\n",
       "    .dataframe tbody tr th:only-of-type {\n",
       "        vertical-align: middle;\n",
       "    }\n",
       "\n",
       "    .dataframe tbody tr th {\n",
       "        vertical-align: top;\n",
       "    }\n",
       "\n",
       "    .dataframe thead th {\n",
       "        text-align: right;\n",
       "    }\n",
       "</style>\n",
       "<table border=\"1\" class=\"dataframe\">\n",
       "  <thead>\n",
       "    <tr style=\"text-align: right;\">\n",
       "      <th></th>\n",
       "      <th>Brand</th>\n",
       "      <th>Model</th>\n",
       "      <th>Reg_Date</th>\n",
       "      <th>Km</th>\n",
       "      <th>Condition</th>\n",
       "      <th>Capacity</th>\n",
       "      <th>Type</th>\n",
       "      <th>Location</th>\n",
       "      <th>Price</th>\n",
       "      <th>Price_predict</th>\n",
       "      <th>Dev</th>\n",
       "    </tr>\n",
       "  </thead>\n",
       "  <tbody>\n",
       "    <tr>\n",
       "      <th>0</th>\n",
       "      <td>11</td>\n",
       "      <td>147</td>\n",
       "      <td>2022</td>\n",
       "      <td>10000</td>\n",
       "      <td>0</td>\n",
       "      <td>0</td>\n",
       "      <td>1</td>\n",
       "      <td>49</td>\n",
       "      <td>0.026717</td>\n",
       "      <td>-0.081258</td>\n",
       "      <td>-0.107975</td>\n",
       "    </tr>\n",
       "    <tr>\n",
       "      <th>1</th>\n",
       "      <td>23</td>\n",
       "      <td>181</td>\n",
       "      <td>1998</td>\n",
       "      <td>336688</td>\n",
       "      <td>0</td>\n",
       "      <td>0</td>\n",
       "      <td>2</td>\n",
       "      <td>49</td>\n",
       "      <td>0.033352</td>\n",
       "      <td>-0.054114</td>\n",
       "      <td>-0.087466</td>\n",
       "    </tr>\n",
       "    <tr>\n",
       "      <th>2</th>\n",
       "      <td>11</td>\n",
       "      <td>147</td>\n",
       "      <td>2019</td>\n",
       "      <td>2</td>\n",
       "      <td>0</td>\n",
       "      <td>0</td>\n",
       "      <td>1</td>\n",
       "      <td>49</td>\n",
       "      <td>0.138311</td>\n",
       "      <td>-0.085782</td>\n",
       "      <td>-0.224093</td>\n",
       "    </tr>\n",
       "    <tr>\n",
       "      <th>3</th>\n",
       "      <td>11</td>\n",
       "      <td>42</td>\n",
       "      <td>1998</td>\n",
       "      <td>33123</td>\n",
       "      <td>0</td>\n",
       "      <td>0</td>\n",
       "      <td>2</td>\n",
       "      <td>49</td>\n",
       "      <td>0.063513</td>\n",
       "      <td>-0.070702</td>\n",
       "      <td>-0.134215</td>\n",
       "    </tr>\n",
       "    <tr>\n",
       "      <th>4</th>\n",
       "      <td>11</td>\n",
       "      <td>10</td>\n",
       "      <td>2012</td>\n",
       "      <td>9000</td>\n",
       "      <td>0</td>\n",
       "      <td>0</td>\n",
       "      <td>1</td>\n",
       "      <td>49</td>\n",
       "      <td>-0.070702</td>\n",
       "      <td>0.506874</td>\n",
       "      <td>0.577576</td>\n",
       "    </tr>\n",
       "    <tr>\n",
       "      <th>...</th>\n",
       "      <td>...</td>\n",
       "      <td>...</td>\n",
       "      <td>...</td>\n",
       "      <td>...</td>\n",
       "      <td>...</td>\n",
       "      <td>...</td>\n",
       "      <td>...</td>\n",
       "      <td>...</td>\n",
       "      <td>...</td>\n",
       "      <td>...</td>\n",
       "      <td>...</td>\n",
       "    </tr>\n",
       "    <tr>\n",
       "      <th>18824</th>\n",
       "      <td>35</td>\n",
       "      <td>66</td>\n",
       "      <td>2016</td>\n",
       "      <td>70000</td>\n",
       "      <td>0</td>\n",
       "      <td>0</td>\n",
       "      <td>0</td>\n",
       "      <td>24</td>\n",
       "      <td>-0.045066</td>\n",
       "      <td>NaN</td>\n",
       "      <td>NaN</td>\n",
       "    </tr>\n",
       "    <tr>\n",
       "      <th>18825</th>\n",
       "      <td>11</td>\n",
       "      <td>189</td>\n",
       "      <td>2018</td>\n",
       "      <td>20000</td>\n",
       "      <td>0</td>\n",
       "      <td>0</td>\n",
       "      <td>0</td>\n",
       "      <td>43</td>\n",
       "      <td>-0.063162</td>\n",
       "      <td>NaN</td>\n",
       "      <td>NaN</td>\n",
       "    </tr>\n",
       "    <tr>\n",
       "      <th>18826</th>\n",
       "      <td>11</td>\n",
       "      <td>147</td>\n",
       "      <td>2018</td>\n",
       "      <td>10000</td>\n",
       "      <td>0</td>\n",
       "      <td>0</td>\n",
       "      <td>1</td>\n",
       "      <td>43</td>\n",
       "      <td>0.901978</td>\n",
       "      <td>NaN</td>\n",
       "      <td>NaN</td>\n",
       "    </tr>\n",
       "    <tr>\n",
       "      <th>18827</th>\n",
       "      <td>23</td>\n",
       "      <td>181</td>\n",
       "      <td>2011</td>\n",
       "      <td>19000</td>\n",
       "      <td>0</td>\n",
       "      <td>0</td>\n",
       "      <td>1</td>\n",
       "      <td>49</td>\n",
       "      <td>-0.076734</td>\n",
       "      <td>NaN</td>\n",
       "      <td>NaN</td>\n",
       "    </tr>\n",
       "    <tr>\n",
       "      <th>18828</th>\n",
       "      <td>11</td>\n",
       "      <td>178</td>\n",
       "      <td>2019</td>\n",
       "      <td>12647</td>\n",
       "      <td>0</td>\n",
       "      <td>0</td>\n",
       "      <td>1</td>\n",
       "      <td>11</td>\n",
       "      <td>0.017367</td>\n",
       "      <td>NaN</td>\n",
       "      <td>NaN</td>\n",
       "    </tr>\n",
       "  </tbody>\n",
       "</table>\n",
       "<p>18829 rows × 11 columns</p>\n",
       "</div>"
      ],
      "text/plain": [
       "       Brand  Model  Reg_Date      Km  Condition  Capacity  Type  Location  \\\n",
       "0         11    147      2022   10000          0         0     1        49   \n",
       "1         23    181      1998  336688          0         0     2        49   \n",
       "2         11    147      2019       2          0         0     1        49   \n",
       "3         11     42      1998   33123          0         0     2        49   \n",
       "4         11     10      2012    9000          0         0     1        49   \n",
       "...      ...    ...       ...     ...        ...       ...   ...       ...   \n",
       "18824     35     66      2016   70000          0         0     0        24   \n",
       "18825     11    189      2018   20000          0         0     0        43   \n",
       "18826     11    147      2018   10000          0         0     1        43   \n",
       "18827     23    181      2011   19000          0         0     1        49   \n",
       "18828     11    178      2019   12647          0         0     1        11   \n",
       "\n",
       "          Price  Price_predict       Dev  \n",
       "0      0.026717      -0.081258 -0.107975  \n",
       "1      0.033352      -0.054114 -0.087466  \n",
       "2      0.138311      -0.085782 -0.224093  \n",
       "3      0.063513      -0.070702 -0.134215  \n",
       "4     -0.070702       0.506874  0.577576  \n",
       "...         ...            ...       ...  \n",
       "18824 -0.045066            NaN       NaN  \n",
       "18825 -0.063162            NaN       NaN  \n",
       "18826  0.901978            NaN       NaN  \n",
       "18827 -0.076734            NaN       NaN  \n",
       "18828  0.017367            NaN       NaN  \n",
       "\n",
       "[18829 rows x 11 columns]"
      ]
     },
     "execution_count": 159,
     "metadata": {},
     "output_type": "execute_result"
    }
   ],
   "source": [
    "y_predict=pd.DataFrame(y_predict, columns=['Price_predict'])\n",
    "\n",
    "# So sánh với giá hiện tại\n",
    "result_com= pd.concat([X,y,y_predict],axis=1)\n",
    "result_com['Dev']=result_com['Price_predict']-result_com['Price']\n",
    "result_com"
   ]
  },
  {
   "cell_type": "code",
   "execution_count": 160,
   "metadata": {},
   "outputs": [],
   "source": [
    "# Độ sai lệch tuyệt đối trung bình phần trăm\n",
    "def mean_absolute_percentage_error(y_test, y_predict):\n",
    "  y_test, y_predict = np.array(y_test), np.array(y_predict)\n",
    "  return np.mean(np.abs((y_test - y_predict ) / y_test)) * 100"
   ]
  },
  {
   "cell_type": "code",
   "execution_count": 161,
   "metadata": {
    "id": "SVy5fUcaxzYT"
   },
   "outputs": [],
   "source": [
    "# Tính giá trị sai số trung bình tuyệt đối\n",
    "mae = metrics.mean_absolute_error(y_test, y_predict)\n",
    "\n",
    "# Tính giá trị sai số bình phương trung bình\n",
    "mse = metrics.mean_squared_error(y_test, y_predict)\n",
    "\n",
    "# Tính giá trị sai số chuẩn\n",
    "rmse = np.sqrt(mse) #mse**(0.5)  \n",
    "\n",
    "# Tính hệ số xác định R2 giữa giá trị thực tế và giá trị dự đoán\n",
    "r2 = metrics.r2_score(y_test,y_predict)\n",
    "\n",
    "# Tính tổng giá trị độ lệch tuyệt đối của các mẫu trong tập dữ liệu so với giá trị dự đoán\n",
    "Total_Deviation=abs(result_com['Dev']).sum()\n",
    "\n",
    "# Độ chính xác của mô hình dự đoán\n",
    "mape = mean_absolute_percentage_error(y_test, y_predict)"
   ]
  },
  {
   "cell_type": "code",
   "execution_count": 162,
   "metadata": {
    "id": "2gVFf0frxzYT",
    "outputId": "2165fb7e-121d-4926-9c42-c3f3cac19ac1"
   },
   "outputs": [
    {
     "name": "stdout",
     "output_type": "stream",
     "text": [
      "Results of sklearn metrics:\n",
      "MAE: 0.03367131110184523\n",
      "MSE: 0.006200103433696616\n",
      "RMSE: 0.07874073554200911\n",
      "R-Squared: 0.3949467200485093\n",
      "Total_Deviation: 83.40688101169752\n",
      "MAPE 343.539536468596\n"
     ]
    }
   ],
   "source": [
    "print(\"Results of sklearn metrics:\")\n",
    "print(\"MAE:\",mae)\n",
    "print(\"MSE:\", mse)\n",
    "print(\"RMSE:\", rmse)\n",
    "print(\"R-Squared:\", r2)\n",
    "print(\"Total_Deviation:\", Total_Deviation)\n",
    "print(\"MAPE\", mape)"
   ]
  },
  {
   "cell_type": "code",
   "execution_count": null,
   "metadata": {},
   "outputs": [],
   "source": []
  }
 ],
 "metadata": {
  "colab": {
   "provenance": []
  },
  "kernelspec": {
   "display_name": "Python 3",
   "language": "python",
   "name": "python3"
  },
  "language_info": {
   "codemirror_mode": {
    "name": "ipython",
    "version": 3
   },
   "file_extension": ".py",
   "mimetype": "text/x-python",
   "name": "python",
   "nbconvert_exporter": "python",
   "pygments_lexer": "ipython3",
   "version": "3.8.2"
  }
 },
 "nbformat": 4,
 "nbformat_minor": 1
}
